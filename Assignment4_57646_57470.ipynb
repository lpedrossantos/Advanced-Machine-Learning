{
 "cells": [
  {
   "cell_type": "markdown",
   "id": "cb1f9399",
   "metadata": {},
   "source": [
    "### Assignment 4 - Hidden Markov Models"
   ]
  },
  {
   "cell_type": "markdown",
   "id": "83132d68",
   "metadata": {},
   "source": [
    "#### Beltrán Liniers  nº57646\n",
    "\n",
    "#### Luís Santos nº57470"
   ]
  },
  {
   "cell_type": "markdown",
   "id": "4c8d8b91",
   "metadata": {},
   "source": [
    "#### Problem 2)"
   ]
  },
  {
   "cell_type": "code",
   "execution_count": 1,
   "id": "1c4907e3",
   "metadata": {},
   "outputs": [],
   "source": [
    "import numpy as np\n",
    "from hmmlearn import hmm\n",
    "import pandas as pd\n",
    "import random\n",
    "from sklearn.preprocessing import LabelEncoder\n",
    "import seaborn as sns\n",
    "import matplotlib.pyplot as plt"
   ]
  },
  {
   "cell_type": "markdown",
   "id": "fa6348fb",
   "metadata": {},
   "source": [
    "No presente assignment foi requerido que se treinasse um Hidden Markov Model (HMM) para prever os estados do problema do Casino Desonesto. No dado problema, pode-se identificar dois estados, o fair dice (F) e o loaded dice (L). A probabilidade de transitar de F para L é de 0.05. Assim, a probabilidade de se manter no estado F é de 0.95. Adicionalmente, a probabilidade de transitar do estado L para F é de 0.1. Pelo que a probabilidade de se manter no estado L é de 0.90. \n",
    "\n",
    "Assim, as probabilidades iniciais de estado são dadas por  $\\pi_{1}=\\frac{0.1}{0.1+0.05}$ e $\\pi_{2}=\\frac{0.05}{0.1+0.05}$ \n",
    "\n",
    "Adicionalmente, a matriz de emissão é constituída por: $B=\\begin{bmatrix} \\frac{1}{6} & \\frac{1}{6} & \\frac{1}{6} & \\frac{1}{6} & \\frac{1}{6} & \\frac{1}{6} \\\\ \\frac{1}{10} & \\frac{1}{10} & \\frac{1}{10} & \\frac{1}{10} & \\frac{1}{10} & \\frac{5}{10} \\end{bmatrix}$\n",
    "\n",
    "Por fim a matriz de transmissão é definida por : $A=\\begin{bmatrix} 0.95 & 0.05\\\\ 0.1 & 0.9 \\end{bmatrix}$"
   ]
  },
  {
   "cell_type": "markdown",
   "id": "32eb79fa",
   "metadata": {},
   "source": [
    "##### a)"
   ]
  },
  {
   "cell_type": "markdown",
   "id": "d5686392",
   "metadata": {},
   "source": [
    "Na alínea a), como foi pedido para assumir todos os parâmetros como conhecidos o treino do modelo não foi efetuado. Assim apenas se realizou a parte do decode, para prever os estados sequenciais com base o test set de 10 pontos."
   ]
  },
  {
   "cell_type": "code",
   "execution_count": 2,
   "id": "26e3c0fd",
   "metadata": {},
   "outputs": [],
   "source": [
    "modelMulti = hmm.MultinomialHMM(n_components = 2)\n",
    "prob_trans_1_to_1 = 0.95\n",
    "prob_trans_1_to_2 = 0.05\n",
    "prob_trans_2_to_2 = 0.90\n",
    "prob_trans_2_to_1 = 0.1\n",
    "pi_1 = prob_trans_2_to_1/(prob_trans_1_to_2 + prob_trans_2_to_1)\n",
    "pi_2 = prob_trans_1_to_2/(prob_trans_1_to_2 + prob_trans_2_to_1)"
   ]
  },
  {
   "cell_type": "code",
   "execution_count": 3,
   "id": "5f8da67a",
   "metadata": {},
   "outputs": [],
   "source": [
    "modelMulti.startprob_ = np.array([pi_1,pi_2])\n",
    "modelMulti.transmat_ = np.array([[0.95,0.05],\n",
    "                                [0.1,0.9]])\n",
    "modelMulti.emissionprob_ = np.array([[1/6,1/6,1/6,1/6,1/6,1/6],\n",
    "                               [1/10,1/10,1/10,1/10,1/10,5/10]])"
   ]
  },
  {
   "cell_type": "code",
   "execution_count": 4,
   "id": "e504c1be",
   "metadata": {},
   "outputs": [],
   "source": [
    "X = np.array([[6],[6],[4],[1],[5],[3],[2],[1],[6],[1],[6],[2],[1],[1],[5],[2],[3],[4],[6],[5],[3],[2],[1],\n",
    "     [4],[3],[5],[6],[6],[3],[4],[2],[6],[1],[6],[5],[5],[2],[3],[4],[2],[3],[2],[3],[1],[5],\n",
    "     [1],[4],[2],[4],[6],[4],[1],[5],[6],[6],[6],[3],[2],[4],[6]])-1\n",
    "L = 1\n",
    "F = 0\n",
    "States = [L,L,L,L,L,L,L,L,L,L,L,L,L,L,F,F,F,F,F,F,L,L,L,L,L,L,L,L,L,L,L,L,L,L,F,F,F,F,F,F,\n",
    "          F,F,F,F,F,F,F,F,F,F,F,F,L,L,L,L,L,L,L,L]"
   ]
  },
  {
   "cell_type": "code",
   "execution_count": 5,
   "id": "93fa272b",
   "metadata": {},
   "outputs": [],
   "source": [
    "X_train= X[:-10]\n",
    "X_test = X[50:]"
   ]
  },
  {
   "cell_type": "code",
   "execution_count": 6,
   "id": "a70cca57",
   "metadata": {},
   "outputs": [
    {
     "name": "stdout",
     "output_type": "stream",
     "text": [
      "Predicted States:  [1 1 1 1 1 1 1 1 1 1]\n",
      "Log likelihood: -16.98461390418157\n"
     ]
    }
   ],
   "source": [
    "Z2= modelMulti.decode(X_test)\n",
    "print(\"Predicted States: \", Z2[1])\n",
    "print(\"Log likelihood:\",modelMulti.score(X_test))"
   ]
  },
  {
   "cell_type": "markdown",
   "id": "770c4ec7",
   "metadata": {},
   "source": [
    "Para os últimos 10 pontos o modelo previu sempre o estado 1, ou seja, o estado L. Com um score próximo a (-17)."
   ]
  },
  {
   "cell_type": "markdown",
   "id": "56b33cab",
   "metadata": {},
   "source": [
    "Como método de avaliação do modelo foi usado o score, que é definido como calcula o somatório dos logaritmos das probabilidades de $P(X_{i}|X_{i-1})$, ou seja, a probabilidade do estado atual dado o estado anterior. É de esperar que este resultado seja negativo, já que se trata de calcular logaritmos de probabilidades. Num cenário perfeito, em que os estados previstos são iguais aos reais, o resultado do score seria 0, o que seria indicativo de um bom modelo."
   ]
  },
  {
   "cell_type": "markdown",
   "id": "9fc9112c",
   "metadata": {},
   "source": [
    "##### b)"
   ]
  },
  {
   "cell_type": "markdown",
   "id": "8e8b5f65",
   "metadata": {},
   "source": [
    "Na alínea b) a matriz de transmissão passa a ser desconhecida, e como tal as probabilidades de estados iniciais, também passam a ser desconhecidas. Assim, foi necessário treinar o modelo para que este aprendesse estes parâmetros. Contudo a matriz de emissão continuou a ser um parâmetro conhecido. "
   ]
  },
  {
   "cell_type": "code",
   "execution_count": 8,
   "id": "313590a5",
   "metadata": {},
   "outputs": [
    {
     "name": "stdout",
     "output_type": "stream",
     "text": [
      "Predicted States:  [1 1 0 1 1 1 1 0 0 1]\n",
      "Log likelihood: -24.76124971053921\n"
     ]
    }
   ],
   "source": [
    "model_b = hmm.MultinomialHMM(n_components=2)\n",
    "model_b.emissionprob_ = np.array([[1/6,1/6,1/6,1/6,1/6,1/6],\n",
    "                               [1/10,1/10,1/10,1/10,1/10,5/10]])\n",
    "model_b.fit(X_train)\n",
    "Z3 = model_b.predict(X_test)\n",
    "print(\"Predicted States: \", Z3)\n",
    "print(\"Log likelihood:\",model_b .score(X_test))"
   ]
  },
  {
   "cell_type": "markdown",
   "id": "3983fe74",
   "metadata": {},
   "source": [
    "Os resultados obtidos foram piores em relação aos da alínea a), onde o score desceu para aproximadamente -0.25."
   ]
  },
  {
   "cell_type": "markdown",
   "id": "670d862e",
   "metadata": {},
   "source": [
    "#### c)"
   ]
  },
  {
   "cell_type": "markdown",
   "id": "f391c788",
   "metadata": {},
   "source": [
    "Na alínea c) passou a ser utilizado outro dataset do Casino Desonesto, com um maior número de instâncias. "
   ]
  },
  {
   "cell_type": "markdown",
   "id": "48f45191",
   "metadata": {},
   "source": [
    "##### i)"
   ]
  },
  {
   "cell_type": "markdown",
   "id": "184ad54c",
   "metadata": {},
   "source": [
    "Na primeira parte do c, será treinado um modelo em que ambas as matrizes, transmissão e emissão, são desconhecidas, mas os estados continuam a ser conhecidos.\n",
    "A continuação definem-se várias funções que ajudam a automatização dos testes. "
   ]
  },
  {
   "cell_type": "code",
   "execution_count": 11,
   "id": "5f6c0e6c",
   "metadata": {},
   "outputs": [],
   "source": [
    "# Encode dos estados\n",
    "def encode_states(States):\n",
    "    le = LabelEncoder()\n",
    "    return le.fit_transform(States)"
   ]
  },
  {
   "cell_type": "code",
   "execution_count": 12,
   "id": "9a2ef3cd",
   "metadata": {},
   "outputs": [],
   "source": [
    "# Função para retirar uma amostra aleatória do dataset\n",
    "def get_sample(X,States,sample_size):\n",
    "    sample = random.sample(range(0,len(X)),sample_size)\n",
    "    return X[sample], States[sample]"
   ]
  },
  {
   "cell_type": "code",
   "execution_count": 13,
   "id": "4dc8cf12",
   "metadata": {},
   "outputs": [],
   "source": [
    "# Função para o treinamento dos modelos\n",
    "def train_test_model(n_states,X_train,X_test,States):\n",
    "    model = hmm.MultinomialHMM(n_components=n_states)\n",
    "    model.fit(X_train)\n",
    "    states_preds = model.predict(X_test)\n",
    "    log_prob = model.score(X_test)\n",
    "    print(\"Log probability is: \", log_prob)\n",
    "    return {\"score\":log_prob}"
   ]
  },
  {
   "cell_type": "code",
   "execution_count": 14,
   "id": "b0299552",
   "metadata": {},
   "outputs": [],
   "source": [
    "# Função para o desenho de gráficos e comparação de modelos. No eixo X será representado o score e no Y o número de estados\n",
    "def plot_metric(scores_100,scores_1000,metric):\n",
    "    sns.scatterplot(data=pd.DataFrame(scores_100),x=metric,y='n_states')\n",
    "    sns.scatterplot(data=pd.DataFrame(scores_1000),x=metric,y='n_states')\n",
    "    plt.title(\"Comparison of {} between models trained with 100 and 1000 data points\".format(metric))\n",
    "    plt.legend(['HMM_100','HMM_1000'])"
   ]
  },
  {
   "cell_type": "code",
   "execution_count": 16,
   "id": "9874a89f",
   "metadata": {},
   "outputs": [],
   "source": [
    "# Importamos os ficheros rolls e dice\n",
    "X = pd.read_csv('rolls.txt').values\n",
    "States = encode_states(pd.read_csv('dice.txt').values.flatten())"
   ]
  },
  {
   "cell_type": "markdown",
   "id": "7e0274dc",
   "metadata": {},
   "source": [
    "Definiram-se 2 training sets, um composto por 100 instâncias e outro composto por 1000. O test set é composto por 30 instâncias."
   ]
  },
  {
   "cell_type": "code",
   "execution_count": 17,
   "id": "2cbd19d3",
   "metadata": {},
   "outputs": [],
   "source": [
    "X_sample_100, States_sample_100 = get_sample(X,States,100)\n",
    "X_sample_1000, States_sample_1000 = get_sample(X,States,1000)\n",
    "X_sample_test,States_sample_test = get_sample(X,States,30)"
   ]
  },
  {
   "cell_type": "markdown",
   "id": "8c816a38",
   "metadata": {},
   "source": [
    "O treino dos modelos com 100 e 1000 observações respetivamente. Foram definidos dois estados.\n",
    "\n",
    "O modelo com 100 exemplos obteve um melhor score, embora a diferença não seja muito grande"
   ]
  },
  {
   "cell_type": "code",
   "execution_count": 19,
   "id": "f6b5c526",
   "metadata": {},
   "outputs": [
    {
     "name": "stdout",
     "output_type": "stream",
     "text": [
      "With 100 Data points\n",
      "Log probability is:  -48.96455463455435\n",
      "With 1000 Data points\n",
      "Log probability is:  -50.621592468401765\n"
     ]
    }
   ],
   "source": [
    "print(\"With 100 Data points\")\n",
    "score_100 = train_test_model(2,X_sample_100,X_sample_test,States_sample_100)\n",
    "print(\"With 1000 Data points\")\n",
    "score_1000 = train_test_model(2,X_sample_1000,X_sample_test,States_sample_1000)"
   ]
  },
  {
   "cell_type": "markdown",
   "id": "7aca3d00",
   "metadata": {},
   "source": [
    "##### ii)"
   ]
  },
  {
   "cell_type": "markdown",
   "id": "ab811d3e",
   "metadata": {},
   "source": [
    "Na segunda parte do exercício c), vai se treinar um modelo em que todos os parâmetros são desconhecidos, inclusivamente o número de estados. Para isso vai-se treinar e testar diferentes modelos com diferentes números de estados, de 1 a 4. No processo será registado a probabilidade logarítmica obtida para cada modelo treinado, com 100 e 1000 instâncias."
   ]
  },
  {
   "cell_type": "code",
   "execution_count": 68,
   "id": "ec087f5e",
   "metadata": {},
   "outputs": [
    {
     "name": "stdout",
     "output_type": "stream",
     "text": [
      "Number of States:  1\n",
      "With 100 Data points\n",
      "Log probability is:  -49.783760023167844\n",
      "With 1000 Data points\n",
      "Log probability is:  -50.62241539107734\n",
      "Number of States:  2\n",
      "With 100 Data points\n",
      "Log probability is:  -49.424986243297795\n",
      "With 1000 Data points\n",
      "Log probability is:  -49.80184835664711\n",
      "Number of States:  3\n",
      "With 100 Data points\n",
      "Log probability is:  -50.99270120242732\n",
      "With 1000 Data points\n",
      "Log probability is:  -50.38497662763659\n",
      "Number of States:  4\n",
      "With 100 Data points\n",
      "Log probability is:  -52.97610047274008\n",
      "With 1000 Data points\n",
      "Log probability is:  -50.17796032082033\n"
     ]
    }
   ],
   "source": [
    "scores_100 = []\n",
    "scores_1000 = []\n",
    "for i in range(1,5):\n",
    "    print(\"Number of States: \", i)\n",
    "    print(\"With 100 Data points\")\n",
    "    score = train_test_model(i,X_sample_100,X_sample_test,States_sample_test)\n",
    "    score['n_states'] = i\n",
    "    scores_100.append(score)\n",
    "    print(\"With 1000 Data points\")\n",
    "    score = train_test_model(i,X_sample_1000,X_sample_test,States_sample_test)\n",
    "    score['n_states'] = i\n",
    "    scores_1000.append(score)"
   ]
  },
  {
   "cell_type": "code",
   "execution_count": 69,
   "id": "76f3b729",
   "metadata": {},
   "outputs": [
    {
     "data": {
      "image/png": "[encoded data removed]",
      "text/plain": [
       "<Figure size 432x288 with 1 Axes>"
      ]
     },
     "metadata": {
      "needs_background": "light"
     },
     "output_type": "display_data"
    }
   ],
   "source": [
    "plot_metric(scores_100,scores_1000,'score')"
   ]
  },
  {
   "cell_type": "markdown",
   "id": "0285ea8f",
   "metadata": {},
   "source": [
    "Pode-se ver no gráfico os modelos com dois estados são os que presentam um maior score, pelo que são os que mais se ajustam aos dados reais. Não entanto estes resultados distam muito de zero pelo que consideramos que o modelo poderia ser melhor."
   ]
  }
 ],
 "metadata": {
  "kernelspec": {
   "display_name": "Python 3",
   "language": "python",
   "name": "python3"
  },
  "language_info": {
   "codemirror_mode": {
    "name": "ipython",
    "version": 3
   },
   "file_extension": ".py",
   "mimetype": "text/x-python",
   "name": "python",
   "nbconvert_exporter": "python",
   "pygments_lexer": "ipython3",
   "version": "3.8.8"
  }
 },
 "nbformat": 4,
 "nbformat_minor": 5
}
